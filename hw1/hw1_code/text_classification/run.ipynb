{
 "cells": [
  {
   "cell_type": "markdown",
   "metadata": {},
   "source": [
    "# Text Classification\n",
    "*Complete and hand in this completed worksheet (including its outputs and any supporting code outside of the worksheet) with your assignment submission. Please check the pdf file for more details.*\n",
    "\n",
    "In this exercise you will:\n",
    "    \n",
    "- implement a of spam classifier with **Naive Bayes method** for real world email messages\n",
    "- learn the **training and testing phase** for Naive Bayes classifier  \n",
    "- get an idea of the **precision-recall** tradeoff"
   ]
  },
  {
   "cell_type": "code",
   "execution_count": 1,
   "metadata": {},
   "outputs": [],
   "source": [
    "# some basic imports\n",
    "import numpy as np\n",
    "import matplotlib.pyplot as plt\n",
    "import scipy.sparse\n",
    "%matplotlib inline\n",
    "\n",
    "%load_ext autoreload\n",
    "%autoreload 2"
   ]
  },
  {
   "cell_type": "code",
   "execution_count": 2,
   "metadata": {},
   "outputs": [
    {
     "name": "stderr",
     "output_type": "stream",
     "text": [
      "E:\\Anaconda\\envs\\tensorflow\\lib\\site-packages\\ipykernel_launcher.py:19: SparseEfficiencyWarning: Changing the sparsity structure of a csr_matrix is expensive. lil_matrix is more efficient.\n",
      "E:\\Anaconda\\envs\\tensorflow\\lib\\site-packages\\ipykernel_launcher.py:26: SparseEfficiencyWarning: Changing the sparsity structure of a csr_matrix is expensive. lil_matrix is more efficient.\n"
     ]
    }
   ],
   "source": [
    "# ham_train contains the occurrences of each word in ham emails. 1-by-N vector\n",
    "ham_train = np.loadtxt('ham_train.csv', delimiter=',')\n",
    "# spam_train contains the occurrences of each word in spam emails. 1-by-N vector\n",
    "spam_train = np.loadtxt('spam_train.csv', delimiter=',')\n",
    "# N is the size of vocabulary.\n",
    "N = ham_train.shape[0]\n",
    "# There 9034 ham emails and 3372 spam emails in the training samples\n",
    "num_ham_train = 9034\n",
    "num_spam_train = 3372\n",
    "# Do smoothing\n",
    "x = np.vstack([ham_train, spam_train]) + 1\n",
    "\n",
    "# ham_test contains the occurences of each word in each ham test email. P-by-N vector, with P is number of ham test emails.\n",
    "i,j,ham_test = np.loadtxt('ham_test.txt').T\n",
    "i = i.astype(np.int)\n",
    "j = j.astype(np.int)\n",
    "ham_test_tight = scipy.sparse.coo_matrix((ham_test, (i - 1, j - 1)))\n",
    "ham_test = scipy.sparse.csr_matrix((ham_test_tight.shape[0], ham_train.shape[0]))\n",
    "ham_test[:, 0:ham_test_tight.shape[1]] = ham_test_tight\n",
    "# spam_test contains the occurences of each word in each spam test email. Q-by-N vector, with Q is number of spam test emails.\n",
    "i,j,spam_test = np.loadtxt('spam_test.txt').T\n",
    "i = i.astype(np.int)\n",
    "j = j.astype(np.int)\n",
    "spam_test_tight = scipy.sparse.csr_matrix((spam_test, (i - 1, j - 1)))\n",
    "spam_test = scipy.sparse.csr_matrix((spam_test_tight.shape[0], spam_train.shape[0]))\n",
    "spam_test[:, 0:spam_test_tight.shape[1]] = spam_test_tight"
   ]
  },
  {
   "cell_type": "markdown",
   "metadata": {},
   "source": [
    "## Now let's implement a ham/spam email classifier. Please refer to the PDF file for details"
   ]
  },
  {
   "cell_type": "code",
   "execution_count": 3,
   "metadata": {
    "scrolled": false
   },
   "outputs": [
    {
     "name": "stdout",
     "output_type": "stream",
     "text": [
      "[30032 75525 38175 45152  9493 65397 37567 13612 56929  9452]\n",
      "nbsp, viagra, pills, cialis, voip, php, meds, computron, sex, ooking, \n",
      "\n"
     ]
    }
   ],
   "source": [
    "from likelihood import likelihood\n",
    "import linecache\n",
    "# TODO\n",
    "# Implement a ham/spam email classifier, and calculate the accuracy of your classifier\n",
    "\n",
    "# Hint: you can directly do matrix multiply between scipy.sparse.coo_matrix and numpy.array.\n",
    "# Specifically, you can use sparse_matrix * np_array to do this. Note that when you use \"*\" operator\n",
    "# between numpy array, this is typically an elementwise multiply.\n",
    "\n",
    "# begin answer\n",
    "# l is likelihood of x, 2-by-N, with N the size of vocabulary\n",
    "# l[i][j] = P(word_j|c_i)\n",
    "l = likelihood(x)\n",
    "# list top-10 words that are most indicative of the SPAM class\n",
    "tmp=np.zeros((N))\n",
    "tmp = l[0]/l[1]\n",
    "tmp = np.argpartition(tmp, range(10))[:10]\n",
    "print(tmp)\n",
    "file_path = 'all_word_map.txt'\n",
    "for i in tmp:\n",
    "    word = linecache.getline(file_path, i+1).strip().split()[0]\n",
    "    print(word, end=', ')\n",
    "print('\\n')"
   ]
  },
  {
   "cell_type": "code",
   "execution_count": 4,
   "metadata": {},
   "outputs": [
    {
     "name": "stdout",
     "output_type": "stream",
     "text": [
      "1124 31 3011 28\n",
      "0.9857315598548972\n"
     ]
    }
   ],
   "source": [
    "# prior: 1-by-2\n",
    "# prior[i] = log[P(c_i)]\n",
    "prior = np.array([num_ham_train, num_spam_train])/(num_ham_train + num_spam_train)\n",
    "# log\n",
    "l = np.log(l)\n",
    "prior = np.log(prior)\n",
    "\n",
    "ham_post = ham_test*l.T\n",
    "spam_post = spam_test*l.T\n",
    "total_ham = ham_post.shape[0]\n",
    "total_spam = spam_post.shape[0]\n",
    "miss_ham = np.sum(ham_post[:,0]+prior[0] < ham_post[:,1]+prior[1], dtype='int')\n",
    "miss_spam = np.sum(spam_post[:,0]+prior[0] >spam_post[:,1]+prior[1], dtype='int')\n",
    "\n",
    "# accuracy\n",
    "accuracy = (total_ham+total_spam-miss_ham-miss_spam)/(total_ham+total_spam)\n",
    "print(total_spam, miss_spam, total_ham, miss_ham)\n",
    "print(accuracy)\n",
    "# end answer"
   ]
  },
  {
   "cell_type": "code",
   "execution_count": null,
   "metadata": {},
   "outputs": [],
   "source": []
  },
  {
   "cell_type": "code",
   "execution_count": null,
   "metadata": {},
   "outputs": [],
   "source": []
  }
 ],
 "metadata": {
  "kernelspec": {
   "display_name": "Python 3",
   "language": "python",
   "name": "python3"
  },
  "language_info": {
   "codemirror_mode": {
    "name": "ipython",
    "version": 3
   },
   "file_extension": ".py",
   "mimetype": "text/x-python",
   "name": "python",
   "nbconvert_exporter": "python",
   "pygments_lexer": "ipython3",
   "version": "3.6.2"
  }
 },
 "nbformat": 4,
 "nbformat_minor": 2
}
